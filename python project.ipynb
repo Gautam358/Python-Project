{
 "cells": [
  {
   "cell_type": "code",
   "execution_count": 1,
   "id": "c6afd854",
   "metadata": {},
   "outputs": [],
   "source": [
    "import numpy as np\n",
    "import pandas as pd\n",
    "import matplotlib as mt"
   ]
  },
  {
   "cell_type": "markdown",
   "id": "7194700e",
   "metadata": {},
   "source": [
    "change the path of the directory"
   ]
  },
  {
   "cell_type": "code",
   "execution_count": 2,
   "id": "904cf595",
   "metadata": {},
   "outputs": [],
   "source": [
    "import os"
   ]
  },
  {
   "cell_type": "code",
   "execution_count": 3,
   "id": "10c0f653",
   "metadata": {},
   "outputs": [
    {
     "data": {
      "text/plain": [
       "'C:\\\\Users\\\\hp'"
      ]
     },
     "execution_count": 3,
     "metadata": {},
     "output_type": "execute_result"
    }
   ],
   "source": [
    "os.getcwd()"
   ]
  },
  {
   "cell_type": "code",
   "execution_count": 4,
   "id": "836a2310",
   "metadata": {},
   "outputs": [],
   "source": [
    "os.chdir(\"E:/Datasets\")"
   ]
  },
  {
   "cell_type": "code",
   "execution_count": 5,
   "id": "d5f8e8f4",
   "metadata": {},
   "outputs": [
    {
     "data": {
      "text/plain": [
       "'E:\\\\Datasets'"
      ]
     },
     "execution_count": 5,
     "metadata": {},
     "output_type": "execute_result"
    }
   ],
   "source": [
    "os.getcwd()"
   ]
  },
  {
   "cell_type": "code",
   "execution_count": 6,
   "id": "6ccda7bc",
   "metadata": {},
   "outputs": [],
   "source": [
    "data = pd.read_csv('E:\\\\Datasets\\\\all_data.csv', delimiter = ',', header = 0)"
   ]
  },
  {
   "cell_type": "code",
   "execution_count": 7,
   "id": "a6a11f9e",
   "metadata": {},
   "outputs": [
    {
     "data": {
      "text/html": [
       "<div>\n",
       "<style scoped>\n",
       "    .dataframe tbody tr th:only-of-type {\n",
       "        vertical-align: middle;\n",
       "    }\n",
       "\n",
       "    .dataframe tbody tr th {\n",
       "        vertical-align: top;\n",
       "    }\n",
       "\n",
       "    .dataframe thead th {\n",
       "        text-align: right;\n",
       "    }\n",
       "</style>\n",
       "<table border=\"1\" class=\"dataframe\">\n",
       "  <thead>\n",
       "    <tr style=\"text-align: right;\">\n",
       "      <th></th>\n",
       "      <th>Order ID</th>\n",
       "      <th>Product</th>\n",
       "      <th>Quantity Ordered</th>\n",
       "      <th>Price Each</th>\n",
       "      <th>Order Date</th>\n",
       "      <th>Purchase Address</th>\n",
       "    </tr>\n",
       "  </thead>\n",
       "  <tbody>\n",
       "    <tr>\n",
       "      <th>0</th>\n",
       "      <td>176558</td>\n",
       "      <td>USB-C Charging Cable</td>\n",
       "      <td>2</td>\n",
       "      <td>11.95</td>\n",
       "      <td>04/19/19 08:46</td>\n",
       "      <td>917 1st St, Dallas, TX 75001</td>\n",
       "    </tr>\n",
       "    <tr>\n",
       "      <th>1</th>\n",
       "      <td>176559</td>\n",
       "      <td>Bose SoundSport Headphones</td>\n",
       "      <td>1</td>\n",
       "      <td>99.99</td>\n",
       "      <td>04-07-2019 22:30</td>\n",
       "      <td>682 Chestnut St, Boston, MA 02215</td>\n",
       "    </tr>\n",
       "    <tr>\n",
       "      <th>2</th>\n",
       "      <td>176560</td>\n",
       "      <td>Google Phone</td>\n",
       "      <td>1</td>\n",
       "      <td>600</td>\n",
       "      <td>04-12-2019 14:38</td>\n",
       "      <td>669 Spruce St, Los Angeles, CA 90001</td>\n",
       "    </tr>\n",
       "    <tr>\n",
       "      <th>3</th>\n",
       "      <td>176560</td>\n",
       "      <td>Wired Headphones</td>\n",
       "      <td>1</td>\n",
       "      <td>11.99</td>\n",
       "      <td>04-12-2019 14:38</td>\n",
       "      <td>669 Spruce St, Los Angeles, CA 90001</td>\n",
       "    </tr>\n",
       "    <tr>\n",
       "      <th>4</th>\n",
       "      <td>176561</td>\n",
       "      <td>Wired Headphones</td>\n",
       "      <td>1</td>\n",
       "      <td>11.99</td>\n",
       "      <td>04/30/19 09:27</td>\n",
       "      <td>333 8th St, Los Angeles, CA 90001</td>\n",
       "    </tr>\n",
       "  </tbody>\n",
       "</table>\n",
       "</div>"
      ],
      "text/plain": [
       "  Order ID                     Product Quantity Ordered Price Each  \\\n",
       "0   176558        USB-C Charging Cable                2      11.95   \n",
       "1   176559  Bose SoundSport Headphones                1      99.99   \n",
       "2   176560                Google Phone                1        600   \n",
       "3   176560            Wired Headphones                1      11.99   \n",
       "4   176561            Wired Headphones                1      11.99   \n",
       "\n",
       "         Order Date                      Purchase Address  \n",
       "0    04/19/19 08:46          917 1st St, Dallas, TX 75001  \n",
       "1  04-07-2019 22:30     682 Chestnut St, Boston, MA 02215  \n",
       "2  04-12-2019 14:38  669 Spruce St, Los Angeles, CA 90001  \n",
       "3  04-12-2019 14:38  669 Spruce St, Los Angeles, CA 90001  \n",
       "4    04/30/19 09:27     333 8th St, Los Angeles, CA 90001  "
      ]
     },
     "execution_count": 7,
     "metadata": {},
     "output_type": "execute_result"
    }
   ],
   "source": [
    "data.head()"
   ]
  },
  {
   "cell_type": "markdown",
   "id": "de72cd8d",
   "metadata": {},
   "source": [
    "### Task-1 'To merge the all csv files into one csv file'"
   ]
  },
  {
   "cell_type": "code",
   "execution_count": 8,
   "id": "4e5dced8",
   "metadata": {},
   "outputs": [],
   "source": [
    "Lists = [\n",
    "        ('E:\\\\Datasets\\\\Sales_January_2019.csv', ',', 0),\n",
    "        ('E:\\\\Datasets\\\\Sales_February_2019.csv',',', 0),\n",
    "       ('E:\\\\Datasets\\\\Sales_March_2019.csv', ',', 0),\n",
    "       ('E:\\\\Datasets\\\\Sales_April_2019.csv', ',', 0),\n",
    "       ('E:\\\\Datasets\\\\Sales_May_2019.csv', ',',  0),\n",
    "       ('E:\\\\Datasets\\\\Sales_June_2019.csv', ',',  0),\n",
    "       ('E:\\\\Datasets\\\\Sales_July_2019.csv', ',', 0),\n",
    "       ('E:\\\\Datasets\\\\Sales_August_2019.csv', ',', 0),\n",
    "       ('E:\\\\Datasets\\\\Sales_September_2019.csv', ',', 0),\n",
    "       ('E:\\\\Datasets\\\\Sales_October_2019.csv', ',', 0),\n",
    "       ('E:\\\\Datasets\\\\Sales_November_2019.csv', ',',  0),\n",
    "       ('E:\\\\Datasets\\\\Sales_December_2019.csv', ',',  0)]"
   ]
  },
  {
   "cell_type": "code",
   "execution_count": 9,
   "id": "a6b45918",
   "metadata": {},
   "outputs": [],
   "source": [
    "dfs = []"
   ]
  },
  {
   "cell_type": "code",
   "execution_count": 10,
   "id": "7a18ad2a",
   "metadata": {},
   "outputs": [],
   "source": [
    "for file_path, delimiter, header in Lists:\n",
    "    df = pd.read_csv(file_path, delimiter=delimiter, header=header)\n",
    "    dfs.append(df)"
   ]
  },
  {
   "cell_type": "code",
   "execution_count": 11,
   "id": "7917baa1",
   "metadata": {},
   "outputs": [],
   "source": [
    "merged_df = pd.concat(dfs, ignore_index = True)"
   ]
  },
  {
   "cell_type": "code",
   "execution_count": 12,
   "id": "7c8adca0",
   "metadata": {},
   "outputs": [
    {
     "data": {
      "text/html": [
       "<div>\n",
       "<style scoped>\n",
       "    .dataframe tbody tr th:only-of-type {\n",
       "        vertical-align: middle;\n",
       "    }\n",
       "\n",
       "    .dataframe tbody tr th {\n",
       "        vertical-align: top;\n",
       "    }\n",
       "\n",
       "    .dataframe thead th {\n",
       "        text-align: right;\n",
       "    }\n",
       "</style>\n",
       "<table border=\"1\" class=\"dataframe\">\n",
       "  <thead>\n",
       "    <tr style=\"text-align: right;\">\n",
       "      <th></th>\n",
       "      <th>Order ID</th>\n",
       "      <th>Product</th>\n",
       "      <th>Quantity Ordered</th>\n",
       "      <th>Price Each</th>\n",
       "      <th>Order Date</th>\n",
       "      <th>Purchase Address</th>\n",
       "    </tr>\n",
       "  </thead>\n",
       "  <tbody>\n",
       "    <tr>\n",
       "      <th>0</th>\n",
       "      <td>141234</td>\n",
       "      <td>iPhone</td>\n",
       "      <td>1</td>\n",
       "      <td>700</td>\n",
       "      <td>01/22/19 21:25</td>\n",
       "      <td>944 Walnut St, Boston, MA 02215</td>\n",
       "    </tr>\n",
       "    <tr>\n",
       "      <th>1</th>\n",
       "      <td>141235</td>\n",
       "      <td>Lightning Charging Cable</td>\n",
       "      <td>1</td>\n",
       "      <td>14.95</td>\n",
       "      <td>01/28/19 14:15</td>\n",
       "      <td>185 Maple St, Portland, OR 97035</td>\n",
       "    </tr>\n",
       "    <tr>\n",
       "      <th>2</th>\n",
       "      <td>141236</td>\n",
       "      <td>Wired Headphones</td>\n",
       "      <td>2</td>\n",
       "      <td>11.99</td>\n",
       "      <td>01/17/19 13:33</td>\n",
       "      <td>538 Adams St, San Francisco, CA 94016</td>\n",
       "    </tr>\n",
       "    <tr>\n",
       "      <th>3</th>\n",
       "      <td>141237</td>\n",
       "      <td>27in FHD Monitor</td>\n",
       "      <td>1</td>\n",
       "      <td>149.99</td>\n",
       "      <td>01/05/19 20:33</td>\n",
       "      <td>738 10th St, Los Angeles, CA 90001</td>\n",
       "    </tr>\n",
       "    <tr>\n",
       "      <th>4</th>\n",
       "      <td>141238</td>\n",
       "      <td>Wired Headphones</td>\n",
       "      <td>1</td>\n",
       "      <td>11.99</td>\n",
       "      <td>01/25/19 11:59</td>\n",
       "      <td>387 10th St, Austin, TX 73301</td>\n",
       "    </tr>\n",
       "    <tr>\n",
       "      <th>...</th>\n",
       "      <td>...</td>\n",
       "      <td>...</td>\n",
       "      <td>...</td>\n",
       "      <td>...</td>\n",
       "      <td>...</td>\n",
       "      <td>...</td>\n",
       "    </tr>\n",
       "    <tr>\n",
       "      <th>186845</th>\n",
       "      <td>319666</td>\n",
       "      <td>Lightning Charging Cable</td>\n",
       "      <td>1</td>\n",
       "      <td>14.95</td>\n",
       "      <td>12/11/19 20:58</td>\n",
       "      <td>14 Madison St, San Francisco, CA 94016</td>\n",
       "    </tr>\n",
       "    <tr>\n",
       "      <th>186846</th>\n",
       "      <td>319667</td>\n",
       "      <td>AA Batteries (4-pack)</td>\n",
       "      <td>2</td>\n",
       "      <td>3.84</td>\n",
       "      <td>12/01/19 12:01</td>\n",
       "      <td>549 Willow St, Los Angeles, CA 90001</td>\n",
       "    </tr>\n",
       "    <tr>\n",
       "      <th>186847</th>\n",
       "      <td>319668</td>\n",
       "      <td>Vareebadd Phone</td>\n",
       "      <td>1</td>\n",
       "      <td>400</td>\n",
       "      <td>12/09/19 06:43</td>\n",
       "      <td>273 Wilson St, Seattle, WA 98101</td>\n",
       "    </tr>\n",
       "    <tr>\n",
       "      <th>186848</th>\n",
       "      <td>319669</td>\n",
       "      <td>Wired Headphones</td>\n",
       "      <td>1</td>\n",
       "      <td>11.99</td>\n",
       "      <td>12/03/19 10:39</td>\n",
       "      <td>778 River St, Dallas, TX 75001</td>\n",
       "    </tr>\n",
       "    <tr>\n",
       "      <th>186849</th>\n",
       "      <td>319670</td>\n",
       "      <td>Bose SoundSport Headphones</td>\n",
       "      <td>1</td>\n",
       "      <td>99.99</td>\n",
       "      <td>12/21/19 21:45</td>\n",
       "      <td>747 Chestnut St, Los Angeles, CA 90001</td>\n",
       "    </tr>\n",
       "  </tbody>\n",
       "</table>\n",
       "<p>186850 rows × 6 columns</p>\n",
       "</div>"
      ],
      "text/plain": [
       "       Order ID                     Product Quantity Ordered Price Each  \\\n",
       "0        141234                      iPhone                1        700   \n",
       "1        141235    Lightning Charging Cable                1      14.95   \n",
       "2        141236            Wired Headphones                2      11.99   \n",
       "3        141237            27in FHD Monitor                1     149.99   \n",
       "4        141238            Wired Headphones                1      11.99   \n",
       "...         ...                         ...              ...        ...   \n",
       "186845   319666    Lightning Charging Cable                1      14.95   \n",
       "186846   319667       AA Batteries (4-pack)                2       3.84   \n",
       "186847   319668             Vareebadd Phone                1        400   \n",
       "186848   319669            Wired Headphones                1      11.99   \n",
       "186849   319670  Bose SoundSport Headphones                1      99.99   \n",
       "\n",
       "            Order Date                        Purchase Address  \n",
       "0       01/22/19 21:25         944 Walnut St, Boston, MA 02215  \n",
       "1       01/28/19 14:15        185 Maple St, Portland, OR 97035  \n",
       "2       01/17/19 13:33   538 Adams St, San Francisco, CA 94016  \n",
       "3       01/05/19 20:33      738 10th St, Los Angeles, CA 90001  \n",
       "4       01/25/19 11:59           387 10th St, Austin, TX 73301  \n",
       "...                ...                                     ...  \n",
       "186845  12/11/19 20:58  14 Madison St, San Francisco, CA 94016  \n",
       "186846  12/01/19 12:01    549 Willow St, Los Angeles, CA 90001  \n",
       "186847  12/09/19 06:43        273 Wilson St, Seattle, WA 98101  \n",
       "186848  12/03/19 10:39          778 River St, Dallas, TX 75001  \n",
       "186849  12/21/19 21:45  747 Chestnut St, Los Angeles, CA 90001  \n",
       "\n",
       "[186850 rows x 6 columns]"
      ]
     },
     "execution_count": 12,
     "metadata": {},
     "output_type": "execute_result"
    }
   ],
   "source": [
    "merged_df"
   ]
  },
  {
   "cell_type": "code",
   "execution_count": 13,
   "id": "7b24ae63",
   "metadata": {},
   "outputs": [],
   "source": [
    "merged_df.to_csv('E:\\\\Datasets\\\\merged_sales_2019.csv', index = False)"
   ]
  },
  {
   "cell_type": "markdown",
   "id": "d1d2ddd5",
   "metadata": {},
   "source": [
    "## Task-2 'Add a Month Column'"
   ]
  },
  {
   "cell_type": "code",
   "execution_count": 14,
   "id": "077de6b0",
   "metadata": {},
   "outputs": [],
   "source": [
    "merged_df['Month'] = merged_df['Order Date'].str[0:2]"
   ]
  },
  {
   "cell_type": "code",
   "execution_count": 15,
   "id": "16f99762",
   "metadata": {},
   "outputs": [
    {
     "data": {
      "text/html": [
       "<div>\n",
       "<style scoped>\n",
       "    .dataframe tbody tr th:only-of-type {\n",
       "        vertical-align: middle;\n",
       "    }\n",
       "\n",
       "    .dataframe tbody tr th {\n",
       "        vertical-align: top;\n",
       "    }\n",
       "\n",
       "    .dataframe thead th {\n",
       "        text-align: right;\n",
       "    }\n",
       "</style>\n",
       "<table border=\"1\" class=\"dataframe\">\n",
       "  <thead>\n",
       "    <tr style=\"text-align: right;\">\n",
       "      <th></th>\n",
       "      <th>Order ID</th>\n",
       "      <th>Product</th>\n",
       "      <th>Quantity Ordered</th>\n",
       "      <th>Price Each</th>\n",
       "      <th>Order Date</th>\n",
       "      <th>Purchase Address</th>\n",
       "      <th>Month</th>\n",
       "    </tr>\n",
       "  </thead>\n",
       "  <tbody>\n",
       "    <tr>\n",
       "      <th>0</th>\n",
       "      <td>141234</td>\n",
       "      <td>iPhone</td>\n",
       "      <td>1</td>\n",
       "      <td>700</td>\n",
       "      <td>01/22/19 21:25</td>\n",
       "      <td>944 Walnut St, Boston, MA 02215</td>\n",
       "      <td>01</td>\n",
       "    </tr>\n",
       "    <tr>\n",
       "      <th>1</th>\n",
       "      <td>141235</td>\n",
       "      <td>Lightning Charging Cable</td>\n",
       "      <td>1</td>\n",
       "      <td>14.95</td>\n",
       "      <td>01/28/19 14:15</td>\n",
       "      <td>185 Maple St, Portland, OR 97035</td>\n",
       "      <td>01</td>\n",
       "    </tr>\n",
       "    <tr>\n",
       "      <th>2</th>\n",
       "      <td>141236</td>\n",
       "      <td>Wired Headphones</td>\n",
       "      <td>2</td>\n",
       "      <td>11.99</td>\n",
       "      <td>01/17/19 13:33</td>\n",
       "      <td>538 Adams St, San Francisco, CA 94016</td>\n",
       "      <td>01</td>\n",
       "    </tr>\n",
       "    <tr>\n",
       "      <th>3</th>\n",
       "      <td>141237</td>\n",
       "      <td>27in FHD Monitor</td>\n",
       "      <td>1</td>\n",
       "      <td>149.99</td>\n",
       "      <td>01/05/19 20:33</td>\n",
       "      <td>738 10th St, Los Angeles, CA 90001</td>\n",
       "      <td>01</td>\n",
       "    </tr>\n",
       "    <tr>\n",
       "      <th>4</th>\n",
       "      <td>141238</td>\n",
       "      <td>Wired Headphones</td>\n",
       "      <td>1</td>\n",
       "      <td>11.99</td>\n",
       "      <td>01/25/19 11:59</td>\n",
       "      <td>387 10th St, Austin, TX 73301</td>\n",
       "      <td>01</td>\n",
       "    </tr>\n",
       "  </tbody>\n",
       "</table>\n",
       "</div>"
      ],
      "text/plain": [
       "  Order ID                   Product Quantity Ordered Price Each  \\\n",
       "0   141234                    iPhone                1        700   \n",
       "1   141235  Lightning Charging Cable                1      14.95   \n",
       "2   141236          Wired Headphones                2      11.99   \n",
       "3   141237          27in FHD Monitor                1     149.99   \n",
       "4   141238          Wired Headphones                1      11.99   \n",
       "\n",
       "       Order Date                       Purchase Address Month  \n",
       "0  01/22/19 21:25        944 Walnut St, Boston, MA 02215    01  \n",
       "1  01/28/19 14:15       185 Maple St, Portland, OR 97035    01  \n",
       "2  01/17/19 13:33  538 Adams St, San Francisco, CA 94016    01  \n",
       "3  01/05/19 20:33     738 10th St, Los Angeles, CA 90001    01  \n",
       "4  01/25/19 11:59          387 10th St, Austin, TX 73301    01  "
      ]
     },
     "execution_count": 15,
     "metadata": {},
     "output_type": "execute_result"
    }
   ],
   "source": [
    "merged_df.head()"
   ]
  },
  {
   "cell_type": "code",
   "execution_count": 16,
   "id": "81809915",
   "metadata": {},
   "outputs": [
    {
     "data": {
      "text/plain": [
       "0         False\n",
       "1         False\n",
       "2         False\n",
       "3         False\n",
       "4         False\n",
       "          ...  \n",
       "186845    False\n",
       "186846    False\n",
       "186847    False\n",
       "186848    False\n",
       "186849    False\n",
       "Length: 186850, dtype: bool"
      ]
     },
     "execution_count": 16,
     "metadata": {},
     "output_type": "execute_result"
    }
   ],
   "source": [
    "merged_df.isna().any(axis = 1)"
   ]
  },
  {
   "cell_type": "code",
   "execution_count": 17,
   "id": "0e0ed9f8",
   "metadata": {},
   "outputs": [],
   "source": [
    "merged_df = merged_df.dropna()"
   ]
  },
  {
   "cell_type": "code",
   "execution_count": 18,
   "id": "fcc43282",
   "metadata": {},
   "outputs": [],
   "source": [
    "problematic_rows = merged_df[merged_df['Month'] == 'Or']"
   ]
  },
  {
   "cell_type": "code",
   "execution_count": 19,
   "id": "927180c8",
   "metadata": {},
   "outputs": [
    {
     "data": {
      "text/html": [
       "<div>\n",
       "<style scoped>\n",
       "    .dataframe tbody tr th:only-of-type {\n",
       "        vertical-align: middle;\n",
       "    }\n",
       "\n",
       "    .dataframe tbody tr th {\n",
       "        vertical-align: top;\n",
       "    }\n",
       "\n",
       "    .dataframe thead th {\n",
       "        text-align: right;\n",
       "    }\n",
       "</style>\n",
       "<table border=\"1\" class=\"dataframe\">\n",
       "  <thead>\n",
       "    <tr style=\"text-align: right;\">\n",
       "      <th></th>\n",
       "      <th>Order ID</th>\n",
       "      <th>Product</th>\n",
       "      <th>Quantity Ordered</th>\n",
       "      <th>Price Each</th>\n",
       "      <th>Order Date</th>\n",
       "      <th>Purchase Address</th>\n",
       "      <th>Month</th>\n",
       "    </tr>\n",
       "  </thead>\n",
       "  <tbody>\n",
       "    <tr>\n",
       "      <th>1073</th>\n",
       "      <td>Order ID</td>\n",
       "      <td>Product</td>\n",
       "      <td>Quantity Ordered</td>\n",
       "      <td>Price Each</td>\n",
       "      <td>Order Date</td>\n",
       "      <td>Purchase Address</td>\n",
       "      <td>Or</td>\n",
       "    </tr>\n",
       "    <tr>\n",
       "      <th>1102</th>\n",
       "      <td>Order ID</td>\n",
       "      <td>Product</td>\n",
       "      <td>Quantity Ordered</td>\n",
       "      <td>Price Each</td>\n",
       "      <td>Order Date</td>\n",
       "      <td>Purchase Address</td>\n",
       "      <td>Or</td>\n",
       "    </tr>\n",
       "    <tr>\n",
       "      <th>1194</th>\n",
       "      <td>Order ID</td>\n",
       "      <td>Product</td>\n",
       "      <td>Quantity Ordered</td>\n",
       "      <td>Price Each</td>\n",
       "      <td>Order Date</td>\n",
       "      <td>Purchase Address</td>\n",
       "      <td>Or</td>\n",
       "    </tr>\n",
       "    <tr>\n",
       "      <th>1897</th>\n",
       "      <td>Order ID</td>\n",
       "      <td>Product</td>\n",
       "      <td>Quantity Ordered</td>\n",
       "      <td>Price Each</td>\n",
       "      <td>Order Date</td>\n",
       "      <td>Purchase Address</td>\n",
       "      <td>Or</td>\n",
       "    </tr>\n",
       "    <tr>\n",
       "      <th>2463</th>\n",
       "      <td>Order ID</td>\n",
       "      <td>Product</td>\n",
       "      <td>Quantity Ordered</td>\n",
       "      <td>Price Each</td>\n",
       "      <td>Order Date</td>\n",
       "      <td>Purchase Address</td>\n",
       "      <td>Or</td>\n",
       "    </tr>\n",
       "    <tr>\n",
       "      <th>...</th>\n",
       "      <td>...</td>\n",
       "      <td>...</td>\n",
       "      <td>...</td>\n",
       "      <td>...</td>\n",
       "      <td>...</td>\n",
       "      <td>...</td>\n",
       "      <td>...</td>\n",
       "    </tr>\n",
       "    <tr>\n",
       "      <th>184931</th>\n",
       "      <td>Order ID</td>\n",
       "      <td>Product</td>\n",
       "      <td>Quantity Ordered</td>\n",
       "      <td>Price Each</td>\n",
       "      <td>Order Date</td>\n",
       "      <td>Purchase Address</td>\n",
       "      <td>Or</td>\n",
       "    </tr>\n",
       "    <tr>\n",
       "      <th>185070</th>\n",
       "      <td>Order ID</td>\n",
       "      <td>Product</td>\n",
       "      <td>Quantity Ordered</td>\n",
       "      <td>Price Each</td>\n",
       "      <td>Order Date</td>\n",
       "      <td>Purchase Address</td>\n",
       "      <td>Or</td>\n",
       "    </tr>\n",
       "    <tr>\n",
       "      <th>185481</th>\n",
       "      <td>Order ID</td>\n",
       "      <td>Product</td>\n",
       "      <td>Quantity Ordered</td>\n",
       "      <td>Price Each</td>\n",
       "      <td>Order Date</td>\n",
       "      <td>Purchase Address</td>\n",
       "      <td>Or</td>\n",
       "    </tr>\n",
       "    <tr>\n",
       "      <th>185925</th>\n",
       "      <td>Order ID</td>\n",
       "      <td>Product</td>\n",
       "      <td>Quantity Ordered</td>\n",
       "      <td>Price Each</td>\n",
       "      <td>Order Date</td>\n",
       "      <td>Purchase Address</td>\n",
       "      <td>Or</td>\n",
       "    </tr>\n",
       "    <tr>\n",
       "      <th>185955</th>\n",
       "      <td>Order ID</td>\n",
       "      <td>Product</td>\n",
       "      <td>Quantity Ordered</td>\n",
       "      <td>Price Each</td>\n",
       "      <td>Order Date</td>\n",
       "      <td>Purchase Address</td>\n",
       "      <td>Or</td>\n",
       "    </tr>\n",
       "  </tbody>\n",
       "</table>\n",
       "<p>355 rows × 7 columns</p>\n",
       "</div>"
      ],
      "text/plain": [
       "        Order ID  Product  Quantity Ordered  Price Each  Order Date  \\\n",
       "1073    Order ID  Product  Quantity Ordered  Price Each  Order Date   \n",
       "1102    Order ID  Product  Quantity Ordered  Price Each  Order Date   \n",
       "1194    Order ID  Product  Quantity Ordered  Price Each  Order Date   \n",
       "1897    Order ID  Product  Quantity Ordered  Price Each  Order Date   \n",
       "2463    Order ID  Product  Quantity Ordered  Price Each  Order Date   \n",
       "...          ...      ...               ...         ...         ...   \n",
       "184931  Order ID  Product  Quantity Ordered  Price Each  Order Date   \n",
       "185070  Order ID  Product  Quantity Ordered  Price Each  Order Date   \n",
       "185481  Order ID  Product  Quantity Ordered  Price Each  Order Date   \n",
       "185925  Order ID  Product  Quantity Ordered  Price Each  Order Date   \n",
       "185955  Order ID  Product  Quantity Ordered  Price Each  Order Date   \n",
       "\n",
       "        Purchase Address Month  \n",
       "1073    Purchase Address    Or  \n",
       "1102    Purchase Address    Or  \n",
       "1194    Purchase Address    Or  \n",
       "1897    Purchase Address    Or  \n",
       "2463    Purchase Address    Or  \n",
       "...                  ...   ...  \n",
       "184931  Purchase Address    Or  \n",
       "185070  Purchase Address    Or  \n",
       "185481  Purchase Address    Or  \n",
       "185925  Purchase Address    Or  \n",
       "185955  Purchase Address    Or  \n",
       "\n",
       "[355 rows x 7 columns]"
      ]
     },
     "execution_count": 19,
     "metadata": {},
     "output_type": "execute_result"
    }
   ],
   "source": [
    "problematic_rows"
   ]
  },
  {
   "cell_type": "code",
   "execution_count": 20,
   "id": "1bbbabc2",
   "metadata": {},
   "outputs": [],
   "source": [
    "merged_df = merged_df.drop(problematic_rows.index)"
   ]
  },
  {
   "cell_type": "code",
   "execution_count": 21,
   "id": "f45dadf2",
   "metadata": {},
   "outputs": [],
   "source": [
    "merged_df['Month'] = merged_df['Month'].astype('int32')"
   ]
  },
  {
   "cell_type": "code",
   "execution_count": 22,
   "id": "7402dd9a",
   "metadata": {},
   "outputs": [
    {
     "data": {
      "text/html": [
       "<div>\n",
       "<style scoped>\n",
       "    .dataframe tbody tr th:only-of-type {\n",
       "        vertical-align: middle;\n",
       "    }\n",
       "\n",
       "    .dataframe tbody tr th {\n",
       "        vertical-align: top;\n",
       "    }\n",
       "\n",
       "    .dataframe thead th {\n",
       "        text-align: right;\n",
       "    }\n",
       "</style>\n",
       "<table border=\"1\" class=\"dataframe\">\n",
       "  <thead>\n",
       "    <tr style=\"text-align: right;\">\n",
       "      <th></th>\n",
       "      <th>Order ID</th>\n",
       "      <th>Product</th>\n",
       "      <th>Quantity Ordered</th>\n",
       "      <th>Price Each</th>\n",
       "      <th>Order Date</th>\n",
       "      <th>Purchase Address</th>\n",
       "      <th>Month</th>\n",
       "    </tr>\n",
       "  </thead>\n",
       "  <tbody>\n",
       "    <tr>\n",
       "      <th>0</th>\n",
       "      <td>141234</td>\n",
       "      <td>iPhone</td>\n",
       "      <td>1</td>\n",
       "      <td>700</td>\n",
       "      <td>01/22/19 21:25</td>\n",
       "      <td>944 Walnut St, Boston, MA 02215</td>\n",
       "      <td>1</td>\n",
       "    </tr>\n",
       "    <tr>\n",
       "      <th>1</th>\n",
       "      <td>141235</td>\n",
       "      <td>Lightning Charging Cable</td>\n",
       "      <td>1</td>\n",
       "      <td>14.95</td>\n",
       "      <td>01/28/19 14:15</td>\n",
       "      <td>185 Maple St, Portland, OR 97035</td>\n",
       "      <td>1</td>\n",
       "    </tr>\n",
       "    <tr>\n",
       "      <th>2</th>\n",
       "      <td>141236</td>\n",
       "      <td>Wired Headphones</td>\n",
       "      <td>2</td>\n",
       "      <td>11.99</td>\n",
       "      <td>01/17/19 13:33</td>\n",
       "      <td>538 Adams St, San Francisco, CA 94016</td>\n",
       "      <td>1</td>\n",
       "    </tr>\n",
       "    <tr>\n",
       "      <th>3</th>\n",
       "      <td>141237</td>\n",
       "      <td>27in FHD Monitor</td>\n",
       "      <td>1</td>\n",
       "      <td>149.99</td>\n",
       "      <td>01/05/19 20:33</td>\n",
       "      <td>738 10th St, Los Angeles, CA 90001</td>\n",
       "      <td>1</td>\n",
       "    </tr>\n",
       "    <tr>\n",
       "      <th>4</th>\n",
       "      <td>141238</td>\n",
       "      <td>Wired Headphones</td>\n",
       "      <td>1</td>\n",
       "      <td>11.99</td>\n",
       "      <td>01/25/19 11:59</td>\n",
       "      <td>387 10th St, Austin, TX 73301</td>\n",
       "      <td>1</td>\n",
       "    </tr>\n",
       "  </tbody>\n",
       "</table>\n",
       "</div>"
      ],
      "text/plain": [
       "  Order ID                   Product Quantity Ordered Price Each  \\\n",
       "0   141234                    iPhone                1        700   \n",
       "1   141235  Lightning Charging Cable                1      14.95   \n",
       "2   141236          Wired Headphones                2      11.99   \n",
       "3   141237          27in FHD Monitor                1     149.99   \n",
       "4   141238          Wired Headphones                1      11.99   \n",
       "\n",
       "       Order Date                       Purchase Address  Month  \n",
       "0  01/22/19 21:25        944 Walnut St, Boston, MA 02215      1  \n",
       "1  01/28/19 14:15       185 Maple St, Portland, OR 97035      1  \n",
       "2  01/17/19 13:33  538 Adams St, San Francisco, CA 94016      1  \n",
       "3  01/05/19 20:33     738 10th St, Los Angeles, CA 90001      1  \n",
       "4  01/25/19 11:59          387 10th St, Austin, TX 73301      1  "
      ]
     },
     "execution_count": 22,
     "metadata": {},
     "output_type": "execute_result"
    }
   ],
   "source": [
    "merged_df.head()"
   ]
  },
  {
   "cell_type": "code",
   "execution_count": 23,
   "id": "276aeb0e",
   "metadata": {},
   "outputs": [],
   "source": [
    "merged_df['Quantity Ordered'] = merged_df['Quantity Ordered'].astype('int32')"
   ]
  },
  {
   "cell_type": "code",
   "execution_count": 24,
   "id": "651cfebc",
   "metadata": {},
   "outputs": [],
   "source": [
    "merged_df['Price Each'] = pd.to_numeric(merged_df['Price Each'], errors='coerce')"
   ]
  },
  {
   "cell_type": "code",
   "execution_count": 25,
   "id": "3677cbc2",
   "metadata": {},
   "outputs": [],
   "source": [
    "merged_df['Price Each'] = merged_df['Price Each'].astype('int32')"
   ]
  },
  {
   "cell_type": "code",
   "execution_count": 26,
   "id": "ec2ec725",
   "metadata": {},
   "outputs": [
    {
     "name": "stdout",
     "output_type": "stream",
     "text": [
      "<class 'pandas.core.frame.DataFrame'>\n",
      "Int64Index: 185950 entries, 0 to 186849\n",
      "Data columns (total 7 columns):\n",
      " #   Column            Non-Null Count   Dtype \n",
      "---  ------            --------------   ----- \n",
      " 0   Order ID          185950 non-null  object\n",
      " 1   Product           185950 non-null  object\n",
      " 2   Quantity Ordered  185950 non-null  int32 \n",
      " 3   Price Each        185950 non-null  int32 \n",
      " 4   Order Date        185950 non-null  object\n",
      " 5   Purchase Address  185950 non-null  object\n",
      " 6   Month             185950 non-null  int32 \n",
      "dtypes: int32(3), object(4)\n",
      "memory usage: 9.2+ MB\n"
     ]
    }
   ],
   "source": [
    "merged_df.info()"
   ]
  },
  {
   "cell_type": "markdown",
   "id": "4e060e61",
   "metadata": {},
   "source": [
    "## Task-3 'Add a sales column'"
   ]
  },
  {
   "cell_type": "code",
   "execution_count": 27,
   "id": "026d101d",
   "metadata": {},
   "outputs": [],
   "source": [
    "merged_df['Sales'] = merged_df['Quantity Ordered']*merged_df['Price Each']"
   ]
  },
  {
   "cell_type": "code",
   "execution_count": 28,
   "id": "b39da359",
   "metadata": {},
   "outputs": [
    {
     "data": {
      "text/html": [
       "<div>\n",
       "<style scoped>\n",
       "    .dataframe tbody tr th:only-of-type {\n",
       "        vertical-align: middle;\n",
       "    }\n",
       "\n",
       "    .dataframe tbody tr th {\n",
       "        vertical-align: top;\n",
       "    }\n",
       "\n",
       "    .dataframe thead th {\n",
       "        text-align: right;\n",
       "    }\n",
       "</style>\n",
       "<table border=\"1\" class=\"dataframe\">\n",
       "  <thead>\n",
       "    <tr style=\"text-align: right;\">\n",
       "      <th></th>\n",
       "      <th>Order ID</th>\n",
       "      <th>Product</th>\n",
       "      <th>Quantity Ordered</th>\n",
       "      <th>Price Each</th>\n",
       "      <th>Order Date</th>\n",
       "      <th>Purchase Address</th>\n",
       "      <th>Month</th>\n",
       "      <th>Sales</th>\n",
       "    </tr>\n",
       "  </thead>\n",
       "  <tbody>\n",
       "    <tr>\n",
       "      <th>0</th>\n",
       "      <td>141234</td>\n",
       "      <td>iPhone</td>\n",
       "      <td>1</td>\n",
       "      <td>700</td>\n",
       "      <td>01/22/19 21:25</td>\n",
       "      <td>944 Walnut St, Boston, MA 02215</td>\n",
       "      <td>1</td>\n",
       "      <td>700</td>\n",
       "    </tr>\n",
       "    <tr>\n",
       "      <th>1</th>\n",
       "      <td>141235</td>\n",
       "      <td>Lightning Charging Cable</td>\n",
       "      <td>1</td>\n",
       "      <td>14</td>\n",
       "      <td>01/28/19 14:15</td>\n",
       "      <td>185 Maple St, Portland, OR 97035</td>\n",
       "      <td>1</td>\n",
       "      <td>14</td>\n",
       "    </tr>\n",
       "    <tr>\n",
       "      <th>2</th>\n",
       "      <td>141236</td>\n",
       "      <td>Wired Headphones</td>\n",
       "      <td>2</td>\n",
       "      <td>11</td>\n",
       "      <td>01/17/19 13:33</td>\n",
       "      <td>538 Adams St, San Francisco, CA 94016</td>\n",
       "      <td>1</td>\n",
       "      <td>22</td>\n",
       "    </tr>\n",
       "    <tr>\n",
       "      <th>3</th>\n",
       "      <td>141237</td>\n",
       "      <td>27in FHD Monitor</td>\n",
       "      <td>1</td>\n",
       "      <td>149</td>\n",
       "      <td>01/05/19 20:33</td>\n",
       "      <td>738 10th St, Los Angeles, CA 90001</td>\n",
       "      <td>1</td>\n",
       "      <td>149</td>\n",
       "    </tr>\n",
       "    <tr>\n",
       "      <th>4</th>\n",
       "      <td>141238</td>\n",
       "      <td>Wired Headphones</td>\n",
       "      <td>1</td>\n",
       "      <td>11</td>\n",
       "      <td>01/25/19 11:59</td>\n",
       "      <td>387 10th St, Austin, TX 73301</td>\n",
       "      <td>1</td>\n",
       "      <td>11</td>\n",
       "    </tr>\n",
       "  </tbody>\n",
       "</table>\n",
       "</div>"
      ],
      "text/plain": [
       "  Order ID                   Product  Quantity Ordered  Price Each  \\\n",
       "0   141234                    iPhone                 1         700   \n",
       "1   141235  Lightning Charging Cable                 1          14   \n",
       "2   141236          Wired Headphones                 2          11   \n",
       "3   141237          27in FHD Monitor                 1         149   \n",
       "4   141238          Wired Headphones                 1          11   \n",
       "\n",
       "       Order Date                       Purchase Address  Month  Sales  \n",
       "0  01/22/19 21:25        944 Walnut St, Boston, MA 02215      1    700  \n",
       "1  01/28/19 14:15       185 Maple St, Portland, OR 97035      1     14  \n",
       "2  01/17/19 13:33  538 Adams St, San Francisco, CA 94016      1     22  \n",
       "3  01/05/19 20:33     738 10th St, Los Angeles, CA 90001      1    149  \n",
       "4  01/25/19 11:59          387 10th St, Austin, TX 73301      1     11  "
      ]
     },
     "execution_count": 28,
     "metadata": {},
     "output_type": "execute_result"
    }
   ],
   "source": [
    "merged_df.head()"
   ]
  },
  {
   "cell_type": "markdown",
   "id": "8001f268",
   "metadata": {},
   "source": [
    "## Task-4 'What was the best month for sales ?'"
   ]
  },
  {
   "cell_type": "code",
   "execution_count": 29,
   "id": "9348bff7",
   "metadata": {},
   "outputs": [],
   "source": [
    "monthly_sales = merged_df.groupby('Month')['Sales'].sum()"
   ]
  },
  {
   "cell_type": "code",
   "execution_count": 30,
   "id": "c3a72073",
   "metadata": {},
   "outputs": [
    {
     "data": {
      "text/plain": [
       "Month\n",
       "1     1813956\n",
       "2     2191696\n",
       "3     2794068\n",
       "4     3374951\n",
       "5     3138287\n",
       "6     2566187\n",
       "7     2635443\n",
       "8     2234194\n",
       "9     2087435\n",
       "10    3719205\n",
       "11    3184394\n",
       "12    4591824\n",
       "Name: Sales, dtype: int32"
      ]
     },
     "execution_count": 30,
     "metadata": {},
     "output_type": "execute_result"
    }
   ],
   "source": [
    "monthly_sales"
   ]
  },
  {
   "cell_type": "code",
   "execution_count": 31,
   "id": "cf55758a",
   "metadata": {},
   "outputs": [],
   "source": [
    "Best_month = monthly_sales.idxmax()"
   ]
  },
  {
   "cell_type": "code",
   "execution_count": 32,
   "id": "43af2cb5",
   "metadata": {},
   "outputs": [
    {
     "data": {
      "text/plain": [
       "12"
      ]
     },
     "execution_count": 32,
     "metadata": {},
     "output_type": "execute_result"
    }
   ],
   "source": [
    "Best_month"
   ]
  },
  {
   "cell_type": "code",
   "execution_count": 33,
   "id": "124a0208",
   "metadata": {},
   "outputs": [],
   "source": [
    "import calendar"
   ]
  },
  {
   "cell_type": "code",
   "execution_count": 34,
   "id": "1a4876d2",
   "metadata": {},
   "outputs": [
    {
     "name": "stdout",
     "output_type": "stream",
     "text": [
      "['January', 'February', 'March', 'April', 'May', 'June', 'July', 'August', 'September', 'October', 'November', 'December']\n"
     ]
    }
   ],
   "source": [
    "monthss = [1,2,3,4,5,6,7,8,9,10,11,12]\n",
    "months = [calendar.month_name[month] for month in monthss]\n",
    "print(months)"
   ]
  },
  {
   "cell_type": "code",
   "execution_count": 35,
   "id": "29da38ca",
   "metadata": {},
   "outputs": [
    {
     "name": "stdout",
     "output_type": "stream",
     "text": [
      "month in which maximum sales happens is December\n"
     ]
    }
   ],
   "source": [
    "best_month_name = calendar.month_name[Best_month]\n",
    "print(f\"month in which maximum sales happens is {best_month_name}\")"
   ]
  },
  {
   "cell_type": "code",
   "execution_count": 36,
   "id": "85d9c57e",
   "metadata": {},
   "outputs": [
    {
     "data": {
      "image/png": "[encoded data removed]",
      "text/plain": [
       "<Figure size 640x480 with 1 Axes>"
      ]
     },
     "metadata": {},
     "output_type": "display_data"
    }
   ],
   "source": [
    "import matplotlib.pyplot as plt\n",
    "\n",
    "\n",
    "\n",
    "bars= plt.bar(months, monthly_sales, color = 'purple')\n",
    "\n",
    "plt.title('Monthly Sales')\n",
    "plt.xticks(months)\n",
    "plt.xlabel('month values')\n",
    "plt.ylabel('sales in usd ($)')\n",
    "plt.xticks(rotation = 'vertical')\n",
    "plt.show()"
   ]
  },
  {
   "cell_type": "markdown",
   "id": "7c4ac8d2",
   "metadata": {},
   "source": [
    "## Task-5 'Which city sold the most products ?'"
   ]
  },
  {
   "cell_type": "code",
   "execution_count": 37,
   "id": "d22dbb1c",
   "metadata": {},
   "outputs": [],
   "source": [
    "def get_city(Address):\n",
    "    return Address.split(\",\")[1]\n",
    "def get_state(address):\n",
    "    return address.split(',')[2].split(' ')[1]"
   ]
  },
  {
   "cell_type": "code",
   "execution_count": 38,
   "id": "17260a8b",
   "metadata": {},
   "outputs": [],
   "source": [
    "merged_df['City'] = merged_df['Purchase Address'].apply( lambda x : f\"{get_city(x)} ({get_state(x)})\") "
   ]
  },
  {
   "cell_type": "code",
   "execution_count": 39,
   "id": "daad20fa",
   "metadata": {},
   "outputs": [
    {
     "data": {
      "text/html": [
       "<div>\n",
       "<style scoped>\n",
       "    .dataframe tbody tr th:only-of-type {\n",
       "        vertical-align: middle;\n",
       "    }\n",
       "\n",
       "    .dataframe tbody tr th {\n",
       "        vertical-align: top;\n",
       "    }\n",
       "\n",
       "    .dataframe thead th {\n",
       "        text-align: right;\n",
       "    }\n",
       "</style>\n",
       "<table border=\"1\" class=\"dataframe\">\n",
       "  <thead>\n",
       "    <tr style=\"text-align: right;\">\n",
       "      <th></th>\n",
       "      <th>Order ID</th>\n",
       "      <th>Product</th>\n",
       "      <th>Quantity Ordered</th>\n",
       "      <th>Price Each</th>\n",
       "      <th>Order Date</th>\n",
       "      <th>Purchase Address</th>\n",
       "      <th>Month</th>\n",
       "      <th>Sales</th>\n",
       "      <th>City</th>\n",
       "    </tr>\n",
       "  </thead>\n",
       "  <tbody>\n",
       "    <tr>\n",
       "      <th>0</th>\n",
       "      <td>141234</td>\n",
       "      <td>iPhone</td>\n",
       "      <td>1</td>\n",
       "      <td>700</td>\n",
       "      <td>01/22/19 21:25</td>\n",
       "      <td>944 Walnut St, Boston, MA 02215</td>\n",
       "      <td>1</td>\n",
       "      <td>700</td>\n",
       "      <td>Boston (MA)</td>\n",
       "    </tr>\n",
       "    <tr>\n",
       "      <th>1</th>\n",
       "      <td>141235</td>\n",
       "      <td>Lightning Charging Cable</td>\n",
       "      <td>1</td>\n",
       "      <td>14</td>\n",
       "      <td>01/28/19 14:15</td>\n",
       "      <td>185 Maple St, Portland, OR 97035</td>\n",
       "      <td>1</td>\n",
       "      <td>14</td>\n",
       "      <td>Portland (OR)</td>\n",
       "    </tr>\n",
       "    <tr>\n",
       "      <th>2</th>\n",
       "      <td>141236</td>\n",
       "      <td>Wired Headphones</td>\n",
       "      <td>2</td>\n",
       "      <td>11</td>\n",
       "      <td>01/17/19 13:33</td>\n",
       "      <td>538 Adams St, San Francisco, CA 94016</td>\n",
       "      <td>1</td>\n",
       "      <td>22</td>\n",
       "      <td>San Francisco (CA)</td>\n",
       "    </tr>\n",
       "    <tr>\n",
       "      <th>3</th>\n",
       "      <td>141237</td>\n",
       "      <td>27in FHD Monitor</td>\n",
       "      <td>1</td>\n",
       "      <td>149</td>\n",
       "      <td>01/05/19 20:33</td>\n",
       "      <td>738 10th St, Los Angeles, CA 90001</td>\n",
       "      <td>1</td>\n",
       "      <td>149</td>\n",
       "      <td>Los Angeles (CA)</td>\n",
       "    </tr>\n",
       "    <tr>\n",
       "      <th>4</th>\n",
       "      <td>141238</td>\n",
       "      <td>Wired Headphones</td>\n",
       "      <td>1</td>\n",
       "      <td>11</td>\n",
       "      <td>01/25/19 11:59</td>\n",
       "      <td>387 10th St, Austin, TX 73301</td>\n",
       "      <td>1</td>\n",
       "      <td>11</td>\n",
       "      <td>Austin (TX)</td>\n",
       "    </tr>\n",
       "  </tbody>\n",
       "</table>\n",
       "</div>"
      ],
      "text/plain": [
       "  Order ID                   Product  Quantity Ordered  Price Each  \\\n",
       "0   141234                    iPhone                 1         700   \n",
       "1   141235  Lightning Charging Cable                 1          14   \n",
       "2   141236          Wired Headphones                 2          11   \n",
       "3   141237          27in FHD Monitor                 1         149   \n",
       "4   141238          Wired Headphones                 1          11   \n",
       "\n",
       "       Order Date                       Purchase Address  Month  Sales  \\\n",
       "0  01/22/19 21:25        944 Walnut St, Boston, MA 02215      1    700   \n",
       "1  01/28/19 14:15       185 Maple St, Portland, OR 97035      1     14   \n",
       "2  01/17/19 13:33  538 Adams St, San Francisco, CA 94016      1     22   \n",
       "3  01/05/19 20:33     738 10th St, Los Angeles, CA 90001      1    149   \n",
       "4  01/25/19 11:59          387 10th St, Austin, TX 73301      1     11   \n",
       "\n",
       "                  City  \n",
       "0          Boston (MA)  \n",
       "1        Portland (OR)  \n",
       "2   San Francisco (CA)  \n",
       "3     Los Angeles (CA)  \n",
       "4          Austin (TX)  "
      ]
     },
     "execution_count": 39,
     "metadata": {},
     "output_type": "execute_result"
    }
   ],
   "source": [
    "merged_df.head()"
   ]
  },
  {
   "cell_type": "code",
   "execution_count": 40,
   "id": "39221f1c",
   "metadata": {},
   "outputs": [],
   "source": [
    "city_wise = merged_df.groupby('City')['Sales'].sum()"
   ]
  },
  {
   "cell_type": "code",
   "execution_count": 41,
   "id": "7232228a",
   "metadata": {},
   "outputs": [
    {
     "data": {
      "text/plain": [
       "City\n",
       " Atlanta (GA)          2782841\n",
       " Austin (TX)           1811054\n",
       " Boston (MA)           3644327\n",
       " Dallas (TX)           2755117\n",
       " Los Angeles (CA)      5426973\n",
       " New York City (NY)    4642872\n",
       " Portland (ME)          447661\n",
       " Portland (OR)         1862056\n",
       " San Francisco (CA)    8223669\n",
       " Seattle (WA)          2735070\n",
       "Name: Sales, dtype: int32"
      ]
     },
     "execution_count": 41,
     "metadata": {},
     "output_type": "execute_result"
    }
   ],
   "source": [
    "city_wise"
   ]
  },
  {
   "cell_type": "code",
   "execution_count": 42,
   "id": "5197820a",
   "metadata": {},
   "outputs": [],
   "source": [
    "best_city = city_wise.idxmax()"
   ]
  },
  {
   "cell_type": "code",
   "execution_count": 43,
   "id": "f7401147",
   "metadata": {},
   "outputs": [
    {
     "data": {
      "text/plain": [
       "' San Francisco (CA)'"
      ]
     },
     "execution_count": 43,
     "metadata": {},
     "output_type": "execute_result"
    }
   ],
   "source": [
    "best_city"
   ]
  },
  {
   "cell_type": "code",
   "execution_count": 44,
   "id": "a4cd5e56",
   "metadata": {},
   "outputs": [
    {
     "data": {
      "image/png": "[encoded data removed]",
      "text/plain": [
       "<Figure size 640x480 with 1 Axes>"
      ]
     },
     "metadata": {},
     "output_type": "display_data"
    }
   ],
   "source": [
    "cities = [city for city, df in merged_df.groupby('City')] \n",
    "\n",
    "plt.bar(cities, city_wise, color = 'skyblue')\n",
    "plt.title('City_wise product sales')\n",
    "plt.xlabel('City names')\n",
    "plt.ylabel('Sales')\n",
    "plt.xticks(rotation = 'vertical')\n",
    "plt.show()"
   ]
  },
  {
   "cell_type": "markdown",
   "id": "71403428",
   "metadata": {},
   "source": [
    "## Task-6 'What time should we display advertisements to maximize the sales ?'"
   ]
  },
  {
   "cell_type": "code",
   "execution_count": 45,
   "id": "310fd4cb",
   "metadata": {},
   "outputs": [
    {
     "data": {
      "text/html": [
       "<div>\n",
       "<style scoped>\n",
       "    .dataframe tbody tr th:only-of-type {\n",
       "        vertical-align: middle;\n",
       "    }\n",
       "\n",
       "    .dataframe tbody tr th {\n",
       "        vertical-align: top;\n",
       "    }\n",
       "\n",
       "    .dataframe thead th {\n",
       "        text-align: right;\n",
       "    }\n",
       "</style>\n",
       "<table border=\"1\" class=\"dataframe\">\n",
       "  <thead>\n",
       "    <tr style=\"text-align: right;\">\n",
       "      <th></th>\n",
       "      <th>Order ID</th>\n",
       "      <th>Product</th>\n",
       "      <th>Quantity Ordered</th>\n",
       "      <th>Price Each</th>\n",
       "      <th>Order Date</th>\n",
       "      <th>Purchase Address</th>\n",
       "      <th>Month</th>\n",
       "      <th>Sales</th>\n",
       "      <th>City</th>\n",
       "    </tr>\n",
       "  </thead>\n",
       "  <tbody>\n",
       "    <tr>\n",
       "      <th>0</th>\n",
       "      <td>141234</td>\n",
       "      <td>iPhone</td>\n",
       "      <td>1</td>\n",
       "      <td>700</td>\n",
       "      <td>01/22/19 21:25</td>\n",
       "      <td>944 Walnut St, Boston, MA 02215</td>\n",
       "      <td>1</td>\n",
       "      <td>700</td>\n",
       "      <td>Boston (MA)</td>\n",
       "    </tr>\n",
       "    <tr>\n",
       "      <th>1</th>\n",
       "      <td>141235</td>\n",
       "      <td>Lightning Charging Cable</td>\n",
       "      <td>1</td>\n",
       "      <td>14</td>\n",
       "      <td>01/28/19 14:15</td>\n",
       "      <td>185 Maple St, Portland, OR 97035</td>\n",
       "      <td>1</td>\n",
       "      <td>14</td>\n",
       "      <td>Portland (OR)</td>\n",
       "    </tr>\n",
       "    <tr>\n",
       "      <th>2</th>\n",
       "      <td>141236</td>\n",
       "      <td>Wired Headphones</td>\n",
       "      <td>2</td>\n",
       "      <td>11</td>\n",
       "      <td>01/17/19 13:33</td>\n",
       "      <td>538 Adams St, San Francisco, CA 94016</td>\n",
       "      <td>1</td>\n",
       "      <td>22</td>\n",
       "      <td>San Francisco (CA)</td>\n",
       "    </tr>\n",
       "    <tr>\n",
       "      <th>3</th>\n",
       "      <td>141237</td>\n",
       "      <td>27in FHD Monitor</td>\n",
       "      <td>1</td>\n",
       "      <td>149</td>\n",
       "      <td>01/05/19 20:33</td>\n",
       "      <td>738 10th St, Los Angeles, CA 90001</td>\n",
       "      <td>1</td>\n",
       "      <td>149</td>\n",
       "      <td>Los Angeles (CA)</td>\n",
       "    </tr>\n",
       "    <tr>\n",
       "      <th>4</th>\n",
       "      <td>141238</td>\n",
       "      <td>Wired Headphones</td>\n",
       "      <td>1</td>\n",
       "      <td>11</td>\n",
       "      <td>01/25/19 11:59</td>\n",
       "      <td>387 10th St, Austin, TX 73301</td>\n",
       "      <td>1</td>\n",
       "      <td>11</td>\n",
       "      <td>Austin (TX)</td>\n",
       "    </tr>\n",
       "  </tbody>\n",
       "</table>\n",
       "</div>"
      ],
      "text/plain": [
       "  Order ID                   Product  Quantity Ordered  Price Each  \\\n",
       "0   141234                    iPhone                 1         700   \n",
       "1   141235  Lightning Charging Cable                 1          14   \n",
       "2   141236          Wired Headphones                 2          11   \n",
       "3   141237          27in FHD Monitor                 1         149   \n",
       "4   141238          Wired Headphones                 1          11   \n",
       "\n",
       "       Order Date                       Purchase Address  Month  Sales  \\\n",
       "0  01/22/19 21:25        944 Walnut St, Boston, MA 02215      1    700   \n",
       "1  01/28/19 14:15       185 Maple St, Portland, OR 97035      1     14   \n",
       "2  01/17/19 13:33  538 Adams St, San Francisco, CA 94016      1     22   \n",
       "3  01/05/19 20:33     738 10th St, Los Angeles, CA 90001      1    149   \n",
       "4  01/25/19 11:59          387 10th St, Austin, TX 73301      1     11   \n",
       "\n",
       "                  City  \n",
       "0          Boston (MA)  \n",
       "1        Portland (OR)  \n",
       "2   San Francisco (CA)  \n",
       "3     Los Angeles (CA)  \n",
       "4          Austin (TX)  "
      ]
     },
     "execution_count": 45,
     "metadata": {},
     "output_type": "execute_result"
    }
   ],
   "source": [
    "merged_df.head()"
   ]
  },
  {
   "cell_type": "code",
   "execution_count": 46,
   "id": "74ef736a",
   "metadata": {},
   "outputs": [],
   "source": [
    "merged_df['Order Date'] = pd.to_datetime(merged_df['Order Date'])"
   ]
  },
  {
   "cell_type": "code",
   "execution_count": 47,
   "id": "4977304e",
   "metadata": {},
   "outputs": [],
   "source": [
    "merged_df['Hour'] = merged_df['Order Date'].dt.hour\n",
    "merged_df['Minute'] = merged_df['Order Date'].dt.minute"
   ]
  },
  {
   "cell_type": "code",
   "execution_count": 48,
   "id": "bf70c0a8",
   "metadata": {},
   "outputs": [
    {
     "data": {
      "text/html": [
       "<div>\n",
       "<style scoped>\n",
       "    .dataframe tbody tr th:only-of-type {\n",
       "        vertical-align: middle;\n",
       "    }\n",
       "\n",
       "    .dataframe tbody tr th {\n",
       "        vertical-align: top;\n",
       "    }\n",
       "\n",
       "    .dataframe thead th {\n",
       "        text-align: right;\n",
       "    }\n",
       "</style>\n",
       "<table border=\"1\" class=\"dataframe\">\n",
       "  <thead>\n",
       "    <tr style=\"text-align: right;\">\n",
       "      <th></th>\n",
       "      <th>Order ID</th>\n",
       "      <th>Product</th>\n",
       "      <th>Quantity Ordered</th>\n",
       "      <th>Price Each</th>\n",
       "      <th>Order Date</th>\n",
       "      <th>Purchase Address</th>\n",
       "      <th>Month</th>\n",
       "      <th>Sales</th>\n",
       "      <th>City</th>\n",
       "      <th>Hour</th>\n",
       "      <th>Minute</th>\n",
       "    </tr>\n",
       "  </thead>\n",
       "  <tbody>\n",
       "    <tr>\n",
       "      <th>0</th>\n",
       "      <td>141234</td>\n",
       "      <td>iPhone</td>\n",
       "      <td>1</td>\n",
       "      <td>700</td>\n",
       "      <td>2019-01-22 21:25:00</td>\n",
       "      <td>944 Walnut St, Boston, MA 02215</td>\n",
       "      <td>1</td>\n",
       "      <td>700</td>\n",
       "      <td>Boston (MA)</td>\n",
       "      <td>21</td>\n",
       "      <td>25</td>\n",
       "    </tr>\n",
       "    <tr>\n",
       "      <th>1</th>\n",
       "      <td>141235</td>\n",
       "      <td>Lightning Charging Cable</td>\n",
       "      <td>1</td>\n",
       "      <td>14</td>\n",
       "      <td>2019-01-28 14:15:00</td>\n",
       "      <td>185 Maple St, Portland, OR 97035</td>\n",
       "      <td>1</td>\n",
       "      <td>14</td>\n",
       "      <td>Portland (OR)</td>\n",
       "      <td>14</td>\n",
       "      <td>15</td>\n",
       "    </tr>\n",
       "    <tr>\n",
       "      <th>2</th>\n",
       "      <td>141236</td>\n",
       "      <td>Wired Headphones</td>\n",
       "      <td>2</td>\n",
       "      <td>11</td>\n",
       "      <td>2019-01-17 13:33:00</td>\n",
       "      <td>538 Adams St, San Francisco, CA 94016</td>\n",
       "      <td>1</td>\n",
       "      <td>22</td>\n",
       "      <td>San Francisco (CA)</td>\n",
       "      <td>13</td>\n",
       "      <td>33</td>\n",
       "    </tr>\n",
       "    <tr>\n",
       "      <th>3</th>\n",
       "      <td>141237</td>\n",
       "      <td>27in FHD Monitor</td>\n",
       "      <td>1</td>\n",
       "      <td>149</td>\n",
       "      <td>2019-01-05 20:33:00</td>\n",
       "      <td>738 10th St, Los Angeles, CA 90001</td>\n",
       "      <td>1</td>\n",
       "      <td>149</td>\n",
       "      <td>Los Angeles (CA)</td>\n",
       "      <td>20</td>\n",
       "      <td>33</td>\n",
       "    </tr>\n",
       "    <tr>\n",
       "      <th>4</th>\n",
       "      <td>141238</td>\n",
       "      <td>Wired Headphones</td>\n",
       "      <td>1</td>\n",
       "      <td>11</td>\n",
       "      <td>2019-01-25 11:59:00</td>\n",
       "      <td>387 10th St, Austin, TX 73301</td>\n",
       "      <td>1</td>\n",
       "      <td>11</td>\n",
       "      <td>Austin (TX)</td>\n",
       "      <td>11</td>\n",
       "      <td>59</td>\n",
       "    </tr>\n",
       "  </tbody>\n",
       "</table>\n",
       "</div>"
      ],
      "text/plain": [
       "  Order ID                   Product  Quantity Ordered  Price Each  \\\n",
       "0   141234                    iPhone                 1         700   \n",
       "1   141235  Lightning Charging Cable                 1          14   \n",
       "2   141236          Wired Headphones                 2          11   \n",
       "3   141237          27in FHD Monitor                 1         149   \n",
       "4   141238          Wired Headphones                 1          11   \n",
       "\n",
       "           Order Date                       Purchase Address  Month  Sales  \\\n",
       "0 2019-01-22 21:25:00        944 Walnut St, Boston, MA 02215      1    700   \n",
       "1 2019-01-28 14:15:00       185 Maple St, Portland, OR 97035      1     14   \n",
       "2 2019-01-17 13:33:00  538 Adams St, San Francisco, CA 94016      1     22   \n",
       "3 2019-01-05 20:33:00     738 10th St, Los Angeles, CA 90001      1    149   \n",
       "4 2019-01-25 11:59:00          387 10th St, Austin, TX 73301      1     11   \n",
       "\n",
       "                  City  Hour  Minute  \n",
       "0          Boston (MA)    21      25  \n",
       "1        Portland (OR)    14      15  \n",
       "2   San Francisco (CA)    13      33  \n",
       "3     Los Angeles (CA)    20      33  \n",
       "4          Austin (TX)    11      59  "
      ]
     },
     "execution_count": 48,
     "metadata": {},
     "output_type": "execute_result"
    }
   ],
   "source": [
    "merged_df.head()"
   ]
  },
  {
   "cell_type": "code",
   "execution_count": 49,
   "id": "1dfa0a75",
   "metadata": {},
   "outputs": [],
   "source": [
    "Hours = merged_df.groupby('Hour').count()"
   ]
  },
  {
   "cell_type": "code",
   "execution_count": 50,
   "id": "f7958376",
   "metadata": {},
   "outputs": [
    {
     "data": {
      "image/png": "[encoded data removed]",
      "text/plain": [
       "<Figure size 640x480 with 1 Axes>"
      ]
     },
     "metadata": {},
     "output_type": "display_data"
    }
   ],
   "source": [
    "hours = [hour for hour, df in merged_df.groupby('Hour')]\n",
    "\n",
    "plt.plot(hours, Hours)\n",
    "plt.xticks(hours)\n",
    "plt.grid()\n",
    "plt.title('Hours distribution')\n",
    "plt.xlabel('Hours')\n",
    "plt.ylabel('Number of Orders')\n",
    "plt.show()"
   ]
  },
  {
   "cell_type": "markdown",
   "id": "4eccce5a",
   "metadata": {},
   "source": [
    "## Task-7 'What product sold the most? why do you think that ?'"
   ]
  },
  {
   "cell_type": "code",
   "execution_count": 51,
   "id": "bf041dc0",
   "metadata": {},
   "outputs": [
    {
     "name": "stderr",
     "output_type": "stream",
     "text": [
      "C:\\Users\\hp\\AppData\\Local\\Temp\\ipykernel_23056\\1550655424.py:1: FutureWarning: The default value of numeric_only in DataFrameGroupBy.sum is deprecated. In a future version, numeric_only will default to False. Either specify numeric_only or select only columns which should be valid for the function.\n",
      "  product_wise = merged_df.groupby('Product').sum()\n"
     ]
    }
   ],
   "source": [
    "product_wise = merged_df.groupby('Product').sum()"
   ]
  },
  {
   "cell_type": "code",
   "execution_count": 52,
   "id": "814cdf0a",
   "metadata": {},
   "outputs": [
    {
     "data": {
      "text/plain": [
       "Product\n",
       "AAA Batteries (4-pack)      31017\n",
       "AA Batteries (4-pack)       27635\n",
       "USB-C Charging Cable        23975\n",
       "Lightning Charging Cable    23217\n",
       "Wired Headphones            20557\n",
       "Name: Quantity Ordered, dtype: int32"
      ]
     },
     "execution_count": 52,
     "metadata": {},
     "output_type": "execute_result"
    }
   ],
   "source": [
    "product_wise['Quantity Ordered'].nlargest(5)"
   ]
  },
  {
   "cell_type": "code",
   "execution_count": 53,
   "id": "cff8e1d9",
   "metadata": {},
   "outputs": [
    {
     "data": {
      "image/png": "[encoded data removed]",
      "text/plain": [
       "<Figure size 640x480 with 1 Axes>"
      ]
     },
     "metadata": {},
     "output_type": "display_data"
    }
   ],
   "source": [
    "products = [product for product, df in merged_df.groupby('Product')]\n",
    "plt.bar(products, product_wise['Quantity Ordered'])\n",
    "plt.title('Most Selling Products')\n",
    "plt.xticks(rotation = 'vertical')\n",
    "plt.xlabel('Products')\n",
    "plt.ylabel('Quantity Ordered')\n",
    "plt.show()"
   ]
  },
  {
   "cell_type": "code",
   "execution_count": 54,
   "id": "465971e7",
   "metadata": {},
   "outputs": [
    {
     "name": "stderr",
     "output_type": "stream",
     "text": [
      "C:\\Users\\hp\\AppData\\Local\\Temp\\ipykernel_23056\\3919640623.py:1: FutureWarning: The default value of numeric_only in DataFrameGroupBy.mean is deprecated. In a future version, numeric_only will default to False. Either specify numeric_only or select only columns which should be valid for the function.\n",
      "  prices = merged_df.groupby('Product').mean()['Price Each']\n",
      "C:\\Users\\hp\\AppData\\Local\\Temp\\ipykernel_23056\\3919640623.py:12: UserWarning: FixedFormatter should only be used together with FixedLocator\n",
      "  ax1.set_xticklabels(products, rotation = 'vertical', size = 8)\n"
     ]
    },
    {
     "data": {
      "image/png": "[encoded data removed]",
      "text/plain": [
       "<Figure size 640x480 with 2 Axes>"
      ]
     },
     "metadata": {},
     "output_type": "display_data"
    }
   ],
   "source": [
    "prices = merged_df.groupby('Product').mean()['Price Each']\n",
    "\n",
    "fig, ax1 = plt.subplots()\n",
    "\n",
    "ax2 = ax1.twinx()\n",
    "ax1.bar(products, product_wise['Quantity Ordered'], color = 'g')\n",
    "ax2.plot(products,prices , 'b-')\n",
    "\n",
    "ax1.set_xlabel('Products name')\n",
    "ax1.set_ylabel('Quantity Ordered', color='g')\n",
    "ax2.set_ylabel('Prices', color='b')\n",
    "ax1.set_xticklabels(products, rotation = 'vertical', size = 8)\n",
    "\n",
    "plt.show()"
   ]
  },
  {
   "cell_type": "markdown",
   "id": "f2ea9f3f",
   "metadata": {},
   "source": [
    "### The above graph clearly indicates that price has a correlation with the most selling product. Prices are low so the product sales are higher"
   ]
  },
  {
   "cell_type": "markdown",
   "id": "a212ee2f",
   "metadata": {},
   "source": [
    "## Task-8 'What products are most often sold together ?'"
   ]
  },
  {
   "cell_type": "code",
   "execution_count": 55,
   "id": "f412605b",
   "metadata": {},
   "outputs": [
    {
     "data": {
      "text/html": [
       "<div>\n",
       "<style scoped>\n",
       "    .dataframe tbody tr th:only-of-type {\n",
       "        vertical-align: middle;\n",
       "    }\n",
       "\n",
       "    .dataframe tbody tr th {\n",
       "        vertical-align: top;\n",
       "    }\n",
       "\n",
       "    .dataframe thead th {\n",
       "        text-align: right;\n",
       "    }\n",
       "</style>\n",
       "<table border=\"1\" class=\"dataframe\">\n",
       "  <thead>\n",
       "    <tr style=\"text-align: right;\">\n",
       "      <th></th>\n",
       "      <th>Order ID</th>\n",
       "      <th>Product</th>\n",
       "      <th>Quantity Ordered</th>\n",
       "      <th>Price Each</th>\n",
       "      <th>Order Date</th>\n",
       "      <th>Purchase Address</th>\n",
       "      <th>Month</th>\n",
       "      <th>Sales</th>\n",
       "      <th>City</th>\n",
       "      <th>Hour</th>\n",
       "      <th>Minute</th>\n",
       "    </tr>\n",
       "  </thead>\n",
       "  <tbody>\n",
       "    <tr>\n",
       "      <th>0</th>\n",
       "      <td>141234</td>\n",
       "      <td>iPhone</td>\n",
       "      <td>1</td>\n",
       "      <td>700</td>\n",
       "      <td>2019-01-22 21:25:00</td>\n",
       "      <td>944 Walnut St, Boston, MA 02215</td>\n",
       "      <td>1</td>\n",
       "      <td>700</td>\n",
       "      <td>Boston (MA)</td>\n",
       "      <td>21</td>\n",
       "      <td>25</td>\n",
       "    </tr>\n",
       "    <tr>\n",
       "      <th>1</th>\n",
       "      <td>141235</td>\n",
       "      <td>Lightning Charging Cable</td>\n",
       "      <td>1</td>\n",
       "      <td>14</td>\n",
       "      <td>2019-01-28 14:15:00</td>\n",
       "      <td>185 Maple St, Portland, OR 97035</td>\n",
       "      <td>1</td>\n",
       "      <td>14</td>\n",
       "      <td>Portland (OR)</td>\n",
       "      <td>14</td>\n",
       "      <td>15</td>\n",
       "    </tr>\n",
       "    <tr>\n",
       "      <th>2</th>\n",
       "      <td>141236</td>\n",
       "      <td>Wired Headphones</td>\n",
       "      <td>2</td>\n",
       "      <td>11</td>\n",
       "      <td>2019-01-17 13:33:00</td>\n",
       "      <td>538 Adams St, San Francisco, CA 94016</td>\n",
       "      <td>1</td>\n",
       "      <td>22</td>\n",
       "      <td>San Francisco (CA)</td>\n",
       "      <td>13</td>\n",
       "      <td>33</td>\n",
       "    </tr>\n",
       "    <tr>\n",
       "      <th>3</th>\n",
       "      <td>141237</td>\n",
       "      <td>27in FHD Monitor</td>\n",
       "      <td>1</td>\n",
       "      <td>149</td>\n",
       "      <td>2019-01-05 20:33:00</td>\n",
       "      <td>738 10th St, Los Angeles, CA 90001</td>\n",
       "      <td>1</td>\n",
       "      <td>149</td>\n",
       "      <td>Los Angeles (CA)</td>\n",
       "      <td>20</td>\n",
       "      <td>33</td>\n",
       "    </tr>\n",
       "    <tr>\n",
       "      <th>4</th>\n",
       "      <td>141238</td>\n",
       "      <td>Wired Headphones</td>\n",
       "      <td>1</td>\n",
       "      <td>11</td>\n",
       "      <td>2019-01-25 11:59:00</td>\n",
       "      <td>387 10th St, Austin, TX 73301</td>\n",
       "      <td>1</td>\n",
       "      <td>11</td>\n",
       "      <td>Austin (TX)</td>\n",
       "      <td>11</td>\n",
       "      <td>59</td>\n",
       "    </tr>\n",
       "  </tbody>\n",
       "</table>\n",
       "</div>"
      ],
      "text/plain": [
       "  Order ID                   Product  Quantity Ordered  Price Each  \\\n",
       "0   141234                    iPhone                 1         700   \n",
       "1   141235  Lightning Charging Cable                 1          14   \n",
       "2   141236          Wired Headphones                 2          11   \n",
       "3   141237          27in FHD Monitor                 1         149   \n",
       "4   141238          Wired Headphones                 1          11   \n",
       "\n",
       "           Order Date                       Purchase Address  Month  Sales  \\\n",
       "0 2019-01-22 21:25:00        944 Walnut St, Boston, MA 02215      1    700   \n",
       "1 2019-01-28 14:15:00       185 Maple St, Portland, OR 97035      1     14   \n",
       "2 2019-01-17 13:33:00  538 Adams St, San Francisco, CA 94016      1     22   \n",
       "3 2019-01-05 20:33:00     738 10th St, Los Angeles, CA 90001      1    149   \n",
       "4 2019-01-25 11:59:00          387 10th St, Austin, TX 73301      1     11   \n",
       "\n",
       "                  City  Hour  Minute  \n",
       "0          Boston (MA)    21      25  \n",
       "1        Portland (OR)    14      15  \n",
       "2   San Francisco (CA)    13      33  \n",
       "3     Los Angeles (CA)    20      33  \n",
       "4          Austin (TX)    11      59  "
      ]
     },
     "execution_count": 55,
     "metadata": {},
     "output_type": "execute_result"
    }
   ],
   "source": [
    "merged_df.head()"
   ]
  },
  {
   "cell_type": "code",
   "execution_count": 56,
   "id": "d1f6f941",
   "metadata": {},
   "outputs": [
    {
     "name": "stderr",
     "output_type": "stream",
     "text": [
      "C:\\Users\\hp\\AppData\\Local\\Temp\\ipykernel_23056\\3699144607.py:2: SettingWithCopyWarning: \n",
      "A value is trying to be set on a copy of a slice from a DataFrame.\n",
      "Try using .loc[row_indexer,col_indexer] = value instead\n",
      "\n",
      "See the caveats in the documentation: https://pandas.pydata.org/pandas-docs/stable/user_guide/indexing.html#returning-a-view-versus-a-copy\n",
      "  data['Grouped'] = data.groupby('Order ID')['Product'].transform(lambda  x:','.join(x))\n"
     ]
    },
    {
     "data": {
      "text/html": [
       "<div>\n",
       "<style scoped>\n",
       "    .dataframe tbody tr th:only-of-type {\n",
       "        vertical-align: middle;\n",
       "    }\n",
       "\n",
       "    .dataframe tbody tr th {\n",
       "        vertical-align: top;\n",
       "    }\n",
       "\n",
       "    .dataframe thead th {\n",
       "        text-align: right;\n",
       "    }\n",
       "</style>\n",
       "<table border=\"1\" class=\"dataframe\">\n",
       "  <thead>\n",
       "    <tr style=\"text-align: right;\">\n",
       "      <th></th>\n",
       "      <th>Order ID</th>\n",
       "      <th>Grouped</th>\n",
       "    </tr>\n",
       "  </thead>\n",
       "  <tbody>\n",
       "    <tr>\n",
       "      <th>41</th>\n",
       "      <td>141275</td>\n",
       "      <td>USB-C Charging Cable,Wired Headphones</td>\n",
       "    </tr>\n",
       "    <tr>\n",
       "      <th>57</th>\n",
       "      <td>141290</td>\n",
       "      <td>Apple Airpods Headphones,AA Batteries (4-pack)</td>\n",
       "    </tr>\n",
       "    <tr>\n",
       "      <th>133</th>\n",
       "      <td>141365</td>\n",
       "      <td>Vareebadd Phone,Wired Headphones</td>\n",
       "    </tr>\n",
       "    <tr>\n",
       "      <th>153</th>\n",
       "      <td>141384</td>\n",
       "      <td>Google Phone,USB-C Charging Cable</td>\n",
       "    </tr>\n",
       "    <tr>\n",
       "      <th>220</th>\n",
       "      <td>141450</td>\n",
       "      <td>Google Phone,Bose SoundSport Headphones</td>\n",
       "    </tr>\n",
       "  </tbody>\n",
       "</table>\n",
       "</div>"
      ],
      "text/plain": [
       "    Order ID                                         Grouped\n",
       "41    141275           USB-C Charging Cable,Wired Headphones\n",
       "57    141290  Apple Airpods Headphones,AA Batteries (4-pack)\n",
       "133   141365                Vareebadd Phone,Wired Headphones\n",
       "153   141384               Google Phone,USB-C Charging Cable\n",
       "220   141450         Google Phone,Bose SoundSport Headphones"
      ]
     },
     "execution_count": 56,
     "metadata": {},
     "output_type": "execute_result"
    }
   ],
   "source": [
    "data = merged_df[merged_df['Order ID'].duplicated(keep = False)]\n",
    "data['Grouped'] = data.groupby('Order ID')['Product'].transform(lambda  x:','.join(x))\n",
    "data = data[['Order ID', 'Grouped']].drop_duplicates()\n",
    "data.head()"
   ]
  },
  {
   "cell_type": "code",
   "execution_count": 57,
   "id": "01f3c812",
   "metadata": {},
   "outputs": [
    {
     "name": "stdout",
     "output_type": "stream",
     "text": [
      "('iPhone', 'Lightning Charging Cable') 1005\n",
      "('Google Phone', 'USB-C Charging Cable') 987\n",
      "('iPhone', 'Wired Headphones') 447\n",
      "('Google Phone', 'Wired Headphones') 414\n",
      "('Vareebadd Phone', 'USB-C Charging Cable') 361\n",
      "('iPhone', 'Apple Airpods Headphones') 360\n",
      "('Google Phone', 'Bose SoundSport Headphones') 220\n",
      "('USB-C Charging Cable', 'Wired Headphones') 160\n",
      "('Vareebadd Phone', 'Wired Headphones') 143\n",
      "('Lightning Charging Cable', 'Wired Headphones') 92\n"
     ]
    }
   ],
   "source": [
    "from itertools import combinations\n",
    "from collections import Counter\n",
    "\n",
    "count = Counter()\n",
    "for row in data['Grouped']:\n",
    "    row_list = row.split(',')\n",
    "    count.update(Counter(combinations(row_list,2)))\n",
    "for key, value in count.most_common(10):\n",
    "    print(key,value)"
   ]
  },
  {
   "cell_type": "markdown",
   "id": "f9115953",
   "metadata": {},
   "source": [
    "## iphone and lightning charging cable are the products that are sold most frequently"
   ]
  },
  {
   "cell_type": "code",
   "execution_count": null,
   "id": "76983d6b",
   "metadata": {},
   "outputs": [],
   "source": []
  },
  {
   "cell_type": "code",
   "execution_count": null,
   "id": "384d7e53",
   "metadata": {},
   "outputs": [],
   "source": []
  }
 ],
 "metadata": {
  "kernelspec": {
   "display_name": "Python 3 (ipykernel)",
   "language": "python",
   "name": "python3"
  },
  "language_info": {
   "codemirror_mode": {
    "name": "ipython",
    "version": 3
   },
   "file_extension": ".py",
   "mimetype": "text/x-python",
   "name": "python",
   "nbconvert_exporter": "python",
   "pygments_lexer": "ipython3",
   "version": "3.11.4"
  }
 },
 "nbformat": 4,
 "nbformat_minor": 5
}
